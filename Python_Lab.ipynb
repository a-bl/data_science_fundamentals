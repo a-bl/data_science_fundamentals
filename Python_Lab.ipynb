{
 "cells": [
  {
   "cell_type": "markdown",
   "metadata": {
    "id": "KOP7kgV5PSl2"
   },
   "source": [
    "# Python and algorithms"
   ]
  },
  {
   "cell_type": "markdown",
   "metadata": {
    "id": "0R6uyhNyjPMc"
   },
   "source": [
    "##### Сomplete this part of test without using any libs (your code must not contain keyword 'import') \n",
    "> **Important note:** Before submission make sure that you **didn't add or delete any notebook cells**. Otherwise your work may not be accepted by the validator!"
   ]
  },
  {
   "cell_type": "markdown",
   "metadata": {
    "id": "GC_iufBgjPMd"
   },
   "source": [
    "#### 1. Implement function str_to_dict(some_str) which returnes dictionary, where keys are string characters, and values are their quantity in the string\n",
    "\n",
    "<div style=\"text-align: right\">1 point</div>"
   ]
  },
  {
   "cell_type": "code",
   "execution_count": 30,
   "metadata": {
    "id": "DDou3xupjPMe"
   },
   "outputs": [],
   "source": [
    "def str_to_dict(some_str):  \n",
    "    \"\"\"\n",
    "    :param some_str: str\n",
    "    :return: dict\n",
    "    \"\"\"\n",
    "    # YOUR CODE HERE\n",
    "    d = dict.fromkeys(some_str, 0)\n",
    "    for c in some_str: \n",
    "        d[c] += 1\n",
    "    return d"
   ]
  },
  {
   "cell_type": "code",
   "execution_count": 31,
   "metadata": {
    "id": "FPjc0Ckxsdbl"
   },
   "outputs": [
    {
     "name": "stdout",
     "output_type": "stream",
     "text": [
      "Str to dict: {'d': 1, 'a': 2, 't': 3, 'r': 2, 'o': 2, '_': 1, 'u': 1, 'n': 1, 'i': 2, 'v': 1, 'e': 1, 's': 1, 'y': 1}\n"
     ]
    }
   ],
   "source": [
    "print('Str to dict:', str_to_dict('dataroot_university'))"
   ]
  },
  {
   "cell_type": "markdown",
   "metadata": {
    "id": "nurux2Btsdbn"
   },
   "source": [
    "Expected Output: \n",
    "<table>\n",
    "  <tr>\n",
    "    <td>Str to dict:</td>\n",
    "    <td> {'d': 1, 'a': 2, 't': 3, 'r': 2, 'o': 2, '_': 1, 'u': 1, 'n': 1, 'i': 2, 'v': 1, 'e': 1, 's': 1, 'y': 1} </td> \n",
    "  </tr>"
   ]
  },
  {
   "cell_type": "markdown",
   "metadata": {
    "id": "ELtxJQQLjPMi"
   },
   "source": [
    "#### 2. Implement function sec_smallest(numbers) which returns second smallest item in the list, without using the built-in sorting methods (your code mustn't contain such words as 'sort', 'sorted')\n",
    "\n",
    ",<div style=\"text-align: right\">1 point\n",
    "  "
   ]
  },
  {
   "cell_type": "code",
   "execution_count": 52,
   "metadata": {
    "id": "yJVJiK9jjPMj"
   },
   "outputs": [],
   "source": [
    "def sec_smallest(numbers):\n",
    "    \"\"\"\n",
    "    :param numbers: list[int]\n",
    "    :return: int    \n",
    "    \"\"\"\n",
    "    # YOUR CODE HERE\n",
    "    lowest=min(numbers[0], numbers[1])\n",
    "    lowest2 = max(numbers[0], numbers[1])\n",
    "    for item in numbers:\n",
    "        if item < lowest:\n",
    "            lowest2 = lowest\n",
    "            lowest = item\n",
    "        elif lowest2 > item and item > lowest:\n",
    "            lowest2 = item\n",
    "    return lowest2"
   ]
  },
  {
   "cell_type": "code",
   "execution_count": 53,
   "metadata": {
    "id": "pg4ry_8Csdbq"
   },
   "outputs": [
    {
     "name": "stdout",
     "output_type": "stream",
     "text": [
      "Sec_smallest:  -2\n"
     ]
    }
   ],
   "source": [
    "print('Sec_smallest: ', sec_smallest([1, 2, -8, -8, -2, 0]))"
   ]
  },
  {
   "cell_type": "markdown",
   "metadata": {
    "id": "qVlYH9axsdbs"
   },
   "source": [
    "Expected Output: \n",
    "<table>\n",
    "  <tr>\n",
    "    <td>Sec_smallest:</td>\n",
    "    <td> -2 </td> \n",
    "  </tr>"
   ]
  },
  {
   "cell_type": "markdown",
   "metadata": {
    "id": "tzgLZ6VijPMo"
   },
   "source": [
    "#### 3. Implement function prime_nums(n) that returns list of numbers which  are simple and < n\n",
    "\n",
    "<div style=\"text-align: right\">1 point</div>"
   ]
  },
  {
   "cell_type": "code",
   "execution_count": 62,
   "metadata": {
    "id": "jvVD9N32jPMp"
   },
   "outputs": [],
   "source": [
    "def prime_nums(n):\n",
    "    \"\"\"\n",
    "    :param n: int\n",
    "    :return: list[int]\n",
    "    \"\"\"\n",
    "    # YOUR CODE HERE\n",
    "    lst = []\n",
    "    k = 0\n",
    "    for i in range(2, n+1):\n",
    "        for j in range(2, i):\n",
    "            if i % j == 0:\n",
    "                k = k + 1\n",
    "        if k == 0:\n",
    "            lst.append(i)\n",
    "        else:\n",
    "            k = 0\n",
    "    return lst "
   ]
  },
  {
   "cell_type": "code",
   "execution_count": 63,
   "metadata": {
    "id": "Zf9DMkN9sdbw"
   },
   "outputs": [
    {
     "name": "stdout",
     "output_type": "stream",
     "text": [
      "Prime numbers:  [2, 3, 5, 7, 11, 13, 17, 19, 23, 29]\n"
     ]
    }
   ],
   "source": [
    "print('Prime numbers: ', prime_nums(30))"
   ]
  },
  {
   "cell_type": "markdown",
   "metadata": {
    "id": "pYutFqaAsdbz"
   },
   "source": [
    "Expected Output:\n",
    "<table>\n",
    "  <tr>\n",
    "    <td>Prime numbers:</td>\n",
    "    <td>[2, 3, 5, 7, 11, 13, 17, 19, 23, 29]</td>\n",
    "  </tr>"
   ]
  },
  {
   "cell_type": "markdown",
   "metadata": {
    "id": "BZYlq4RtzTCJ"
   },
   "source": [
    "#### 4. Implement function max_sum_index(tuples), which returnes index of tuple in the list with maximum sum of elements\n",
    "\n",
    "<div style=\"text-align: right\">1 point</div>"
   ]
  },
  {
   "cell_type": "code",
   "execution_count": 64,
   "metadata": {
    "id": "nSoHCzrZzTCK"
   },
   "outputs": [],
   "source": [
    "def max_sum_index(tuples):  \n",
    "    '''\n",
    "    :param tuples: list[tuple]\n",
    "    :return: int\n",
    "    '''\n",
    "    # YOUR CODE HERE\n",
    "    maxi = 0\n",
    "    max_val = 0\n",
    "  \n",
    "    # traversal in the lists \n",
    "    for i, x in enumerate(tuples): \n",
    "        sum = 0 \n",
    "        # traversal in tuples in list \n",
    "        for y in x: \n",
    "            sum += y\n",
    "        if sum > max_val:\n",
    "            max_val = sum\n",
    "            maxi = i \n",
    "          \n",
    "    return maxi"
   ]
  },
  {
   "cell_type": "code",
   "execution_count": 65,
   "metadata": {
    "id": "kDgUQzSjzTCM"
   },
   "outputs": [
    {
     "name": "stdout",
     "output_type": "stream",
     "text": [
      "Index:  1\n",
      "Index:  0\n"
     ]
    }
   ],
   "source": [
    "print('Index: ', max_sum_index([(10, 20, 1, 2), (51, 32), (30, 25, 5)]))\n",
    "print('Index: ', max_sum_index([(47, 22, 11), (23, 17)]))"
   ]
  },
  {
   "cell_type": "markdown",
   "metadata": {
    "id": "RFxkqxeAzTCO"
   },
   "source": [
    "Expected Output: \n",
    "<table>\n",
    "  <tr>\n",
    "    <td>Index:</td>\n",
    "    <td> 1 </td> \n",
    "  </tr>\n",
    "  <tr>\n",
    "    <td>Index:</td>\n",
    "    <td> 0 </td> \n",
    "  </tr>\n",
    "</table>"
   ]
  },
  {
   "cell_type": "markdown",
   "metadata": {
    "id": "dgWLVbybzTCO"
   },
   "source": [
    "#### 5. Implement function gcd(x, y), which returns the greatest common divisor of n and m\n",
    "<div style=\"text-align: right\">1 point</div>"
   ]
  },
  {
   "cell_type": "code",
   "execution_count": 66,
   "metadata": {
    "id": "NivXXE8ZzTCO"
   },
   "outputs": [],
   "source": [
    "def gcd(x, y):   \n",
    "    '''\n",
    "    :params m,n: int\n",
    "    :return: int\n",
    "    '''\n",
    "    # YOUR CODE HERE\n",
    "    while y != 0:\n",
    "        (x, y) = (y, x % y)\n",
    "    return x"
   ]
  },
  {
   "cell_type": "code",
   "execution_count": 67,
   "metadata": {
    "id": "4foTg3J2zTCQ"
   },
   "outputs": [
    {
     "name": "stdout",
     "output_type": "stream",
     "text": [
      "GCD:  20\n"
     ]
    }
   ],
   "source": [
    "print('GCD: ', gcd(160, 180))"
   ]
  },
  {
   "cell_type": "markdown",
   "metadata": {
    "id": "Sqnrn37NzTCU"
   },
   "source": [
    "Expected Output: \n",
    "<table>\n",
    "  <tr>\n",
    "    <td>GCD:</td>\n",
    "    <td> 20 </td> \n",
    "  </tr>"
   ]
  },
  {
   "cell_type": "markdown",
   "metadata": {
    "id": "7taKAqDEzTCU"
   },
   "source": [
    "#### 6. Implement recursive sum of the list\n",
    "<div style=\"text-align: right\">1 point</div>"
   ]
  },
  {
   "cell_type": "code",
   "execution_count": 70,
   "metadata": {
    "id": "OZ88SyEPzTCV"
   },
   "outputs": [],
   "source": [
    "def recursive_list_sum(data_list):\n",
    "    \"\"\"\n",
    "    :param data_list: list[list]\n",
    "    \"\"\"\n",
    "    # YOUR CODE HERE\n",
    "    total = 0\n",
    "    for element in data_list:\n",
    "        if type(element) == type([]):\n",
    "            total = total + recursive_list_sum(element)\n",
    "        else:\n",
    "            total = total + element\n",
    "\n",
    "    return total"
   ]
  },
  {
   "cell_type": "code",
   "execution_count": 71,
   "metadata": {
    "id": "xBqGJR2MzTCW"
   },
   "outputs": [
    {
     "name": "stdout",
     "output_type": "stream",
     "text": [
      "The sum of a list is  55\n"
     ]
    }
   ],
   "source": [
    "print('The sum of a list is ', recursive_list_sum([1, 2, [3, 4], [5, 6], [7, 8, 9, [10]]]))"
   ]
  },
  {
   "cell_type": "markdown",
   "metadata": {
    "id": "-B7d97oszTCY"
   },
   "source": [
    "Expected Output:\n",
    "<table>\n",
    "  <tr>\n",
    "    <td>The sum of a list is 55</td> \n",
    "  </tr>"
   ]
  },
  {
   "cell_type": "markdown",
   "metadata": {
    "id": "IwBGvz-UzTCZ"
   },
   "source": [
    "#### 7. Implement decorator which returns function signature and it's return value\n",
    "<div style=\"text-align: right\">1 point</div>"
   ]
  },
  {
   "cell_type": "code",
   "execution_count": 49,
   "metadata": {
    "id": "VqlkRz0szTCZ"
   },
   "outputs": [],
   "source": [
    "def debug(func):\n",
    "    \"\"\"\n",
    "    :param func: function\n",
    "    \"\"\"\n",
    "    # YOUR CODE HERE\n",
    "    def wrapper(*args, **kwargs):\n",
    "        output = func(*args, **kwargs)\n",
    "        print(f' {func.__name__}{args} was called and returned {output}')\n",
    "        return output\n",
    "    return wrapper"
   ]
  },
  {
   "cell_type": "code",
   "execution_count": 50,
   "metadata": {
    "id": "rCRTAmeizTCb"
   },
   "outputs": [
    {
     "name": "stdout",
     "output_type": "stream",
     "text": [
      " add(3, 4) was called and returned 7\n",
      "7\n",
      " sub(3,) was called and returned -97\n",
      "-97\n",
      " sub(3, 4) was called and returned -1\n",
      "-1\n"
     ]
    }
   ],
   "source": [
    "@debug\n",
    "def add(a, b):\n",
    "    return a + b\n",
    "    \n",
    "@debug\n",
    "def sub(a, b=100):\n",
    "    return a - b\n",
    "\n",
    "print(add(3, 4))\n",
    "print(sub(3))\n",
    "print(sub(3,4))"
   ]
  },
  {
   "cell_type": "markdown",
   "metadata": {
    "id": "dagwtSWmzTCd"
   },
   "source": [
    "Expected Output:\n",
    "<table>\n",
    "  <tr>\n",
    "    <td>add(3, 4) was called and returned 7</td>\n",
    "  </tr>\n",
    "  <tr>\n",
    "    <td>sub(3) was called and returned -97</td>\n",
    "  </tr>\n",
    "  <tr>\n",
    "    <td>sub(3, 4) was called and returned -1</td>\n",
    "  <tr>"
   ]
  },
  {
   "cell_type": "markdown",
   "metadata": {
    "id": "p96mEq8vjPMr"
   },
   "source": [
    "#### 8. Implement class Conv, that contains method to_roman(self, n), which converts decimal numbers to Roman numerals\n",
    "\n",
    "<div style=\"text-align: right\">2 points</div>"
   ]
  },
  {
   "cell_type": "code",
   "execution_count": 138,
   "metadata": {
    "id": "weYiaNWojPMs"
   },
   "outputs": [],
   "source": [
    "class Conv:\n",
    "    def __init__(self):\n",
    "        self.val = [\n",
    "            1000, 900, 500, 400,\n",
    "            100, 90, 50, 40,\n",
    "            10, 9, 5, 4, 1\n",
    "        ]\n",
    "\n",
    "        self.syb = [\n",
    "            'M', 'CM', 'D', 'CD',\n",
    "            'C', 'XC', 'L', 'XL',\n",
    "            'X', 'IX', 'V', 'IV',\n",
    "            'I'\n",
    "        ]\n",
    "        \n",
    "    def to_roman(self, num):    \n",
    "        \"\"\"\n",
    "        :param self:\n",
    "        :param n: int\n",
    "        :return: str    \n",
    "        \"\"\"\n",
    "        # YOUR CODE HERE\n",
    "        roman_num = ''\n",
    "        i = 0\n",
    "        while  num > 0:\n",
    "            for _ in range(num // self.val[i]):\n",
    "                roman_num += self.syb[i]\n",
    "                num -= self.val[i]\n",
    "            i += 1\n",
    "        return roman_num"
   ]
  },
  {
   "cell_type": "code",
   "execution_count": 139,
   "metadata": {
    "id": "NdffBhZesdb6"
   },
   "outputs": [
    {
     "name": "stdout",
     "output_type": "stream",
     "text": [
      "Converted:  XLIV\n"
     ]
    }
   ],
   "source": [
    "print('Converted: ', Conv().to_roman(44))"
   ]
  },
  {
   "cell_type": "markdown",
   "metadata": {
    "id": "lF6Acd9gsdb8"
   },
   "source": [
    "Expected Output:\n",
    "<table>\n",
    "  <tr>\n",
    "    <td>Converted:</td>\n",
    "    <td>XLIV</td> \n",
    "  </tr>"
   ]
  },
  {
   "cell_type": "markdown",
   "metadata": {
    "id": "kphmMZ7JjPMv"
   },
   "source": [
    "#### 9. Implement class CombinationsList, that contains method get_combinations(self, my_list), which returns all combinations of elements of given list, including empty element. Order of elements doesn't matter\n",
    "<div style=\"text-align: right\">3 points</div>"
   ]
  },
  {
   "cell_type": "code",
   "execution_count": 43,
   "metadata": {
    "id": "YRLNrVppjPMw"
   },
   "outputs": [],
   "source": [
    "class CombinationsList:\n",
    "    @staticmethod\n",
    "    def get_combinations(my_list):\n",
    "        \"\"\"\n",
    "        :param self:\n",
    "        :param my_list: list\n",
    "        :return: list[list]\n",
    "        \"\"\"\n",
    "#         YOUR CODE HERE\n",
    "        l = []\n",
    "        l.append([])\n",
    "        for i in range(len(my_list)):\n",
    "            l.append([my_list[i]])\n",
    "            for j in range(i+1, len(my_list)):\n",
    "                l.append([my_list[i], my_list[j]])\n",
    "                for k in range(j+1, len(my_list)):\n",
    "                    l.append([my_list[i], my_list[j], my_list[k]])\n",
    "                    for m in range(k+1, len(my_list)):\n",
    "                        l.append([my_list[i], my_list[j], my_list[k], my_list[m]])\n",
    "        return l"
   ]
  },
  {
   "cell_type": "code",
   "execution_count": 44,
   "metadata": {
    "id": "8IVUwFllsdb_"
   },
   "outputs": [
    {
     "name": "stdout",
     "output_type": "stream",
     "text": [
      "Combinations:  [[], [1], [1, 2], [1, 2, 'a'], [1, 2, 'a', 5], [1, 2, 5], [1, 'a'], [1, 'a', 5], [1, 5], [2], [2, 'a'], [2, 'a', 5], [2, 5], ['a'], ['a', 5], [5]]\n"
     ]
    }
   ],
   "source": [
    "print('Combinations: ', CombinationsList().get_combinations([1, 2, 'a', 5]))"
   ]
  },
  {
   "cell_type": "markdown",
   "metadata": {
    "id": "Etp9QRL-sdcC"
   },
   "source": [
    "Expected Output:\n",
    "<table>\n",
    "  <tr>\n",
    "    <td>Combinations:</td>\n",
    "    <td>[[], [1], [2], ['a'], [5], [1, 2], [1, 'a'], [1, 5], [2, 'a'], [2, 5], ['a', 5], [1, 2, 'a'], [1, 2, 5], [1, 'a', 5], [2, 'a', 5], [1, 2, 'a', 5]]</td> \n",
    "  </tr>"
   ]
  },
  {
   "cell_type": "markdown",
   "metadata": {
    "id": "DMAxsP5ezTCn"
   },
   "source": [
    "#### 10. Create base class <code>Rocket</code> and it's subclass <code>Shuttle</code>. The parent class contains methods <code>getMission()</code>, <code>addMission()</code> and <code>getName()</code>. The subclass <code>Shuttle</code> contains method <code>getDescription()</code>. Notice that we have not defined <code>getName()</code>, <code>getMission()</code>, <code>addMission()</code> in the <code>Shuttle</code> class but we are still able to access them, because the class <code>Shuttle</code> inherits them from the <code>Rocket</code> class. Use <code>super()</code> method to have ability to call those methods of the base class.\n",
    "<div style=\"text-align: right\">3 points</div>"
   ]
  },
  {
   "cell_type": "code",
   "execution_count": 169,
   "metadata": {
    "id": "0n3UwConzTCn"
   },
   "outputs": [],
   "source": [
    "class Rocket:\n",
    "\n",
    "    def __init__(self, name, mission):\n",
    "        \"\"\"\n",
    "        :param name: str\n",
    "        :param mission: str or list\n",
    "        \"\"\"\n",
    "        # attributes are private to class Rocket\n",
    "        self.__name = name\n",
    "        self.__mission = mission\n",
    "\n",
    "    def getMission(self): \n",
    "        \"\"\"\n",
    "        : return str or list\n",
    "        \"\"\"\n",
    "        # YOUR CODE HERE\n",
    "        return self.__mission\n",
    "\n",
    "    def addMission(self, mission): \n",
    "        # procedure method which adds a new mission. There can be one (str) or multiple (list) existing missions\n",
    "        \"\"\"\n",
    "        : param mission: str\n",
    "        \"\"\"\n",
    "        # YOUR CODE HERE\n",
    "        if type(mission) == str:\n",
    "            self.__mission = [self.__mission, mission]\n",
    "        elif type(mission) in [list, tuple]:\n",
    "                self.__mission.extend(mission)\n",
    "\n",
    "    def getName(self):\n",
    "        \"\"\"\n",
    "        : return str\n",
    "        \"\"\"\n",
    "        # YOUR CODE HERE\n",
    "        return self.__name\n",
    "\n",
    "    \n",
    "class Shuttle(Rocket):\n",
    "\n",
    "    def __init__(self, name, mission, model):\n",
    "        # call parent constructor to set name and mission  \n",
    "        \"\"\"\n",
    "        :param name: str\n",
    "        :param mission: str or list\n",
    "        : param model: str\n",
    "        \"\"\"\n",
    "        # YOUR CODE HERE\n",
    "        super().__init__(name, mission)  \n",
    "        self.__model = model\n",
    "\n",
    "    def getDescription(self):\n",
    "        return f'Name: {self.getName()}\\nModel: {self.__model}\\nMissions: {str(self.getMission())}'"
   ]
  },
  {
   "cell_type": "code",
   "execution_count": 170,
   "metadata": {
    "id": "H7qmbnhgzTCo"
   },
   "outputs": [
    {
     "name": "stdout",
     "output_type": "stream",
     "text": [
      "Name: Crew Dragon\n",
      "Model: V2\n",
      "Missions: Dragon 2 pad abort test \n",
      "\n",
      "Name: Crew Dragon\n",
      "Model: V2\n",
      "Missions: ['Dragon 2 pad abort test', 'Dragon 2 in-flight abort test']\n"
     ]
    }
   ],
   "source": [
    "dragon = Shuttle(\"Crew Dragon\", \"Dragon 2 pad abort test\", \"V2\")\n",
    "print(dragon.getDescription(), '\\n')\n",
    "dragon.addMission('Dragon 2 in-flight abort test')\n",
    "print(dragon.getDescription())"
   ]
  },
  {
   "cell_type": "markdown",
   "metadata": {
    "id": "CbRcyQwXzTCq"
   },
   "source": [
    "Expected Output: \n",
    "\n",
    "                Name: Crew Dragon\n",
    "                Model: V2\n",
    "                Missions: Dragon 2 pad abort test\n",
    "                \n",
    "                Name: Crew Dragon\n",
    "                Model: V2\n",
    "                Missions: ['Dragon 2 pad abort test', 'Dragon 2 in-flight abort test']\n",
    "\n"
   ]
  },
  {
   "cell_type": "markdown",
   "metadata": {},
   "source": [
    "##### Python lab Done!"
   ]
  },
  {
   "cell_type": "markdown",
   "metadata": {},
   "source": [
    "##### Make sure that you didn't add or delete any notebook cells. Otherwise your work may not be accepted by the validator!"
   ]
  }
 ],
 "metadata": {
  "colab": {
   "collapsed_sections": [],
   "name": "Python_Lab.ipynb",
   "provenance": []
  },
  "kernelspec": {
   "display_name": "Python 3",
   "language": "python",
   "name": "python3"
  },
  "language_info": {
   "codemirror_mode": {
    "name": "ipython",
    "version": 3
   },
   "file_extension": ".py",
   "mimetype": "text/x-python",
   "name": "python",
   "nbconvert_exporter": "python",
   "pygments_lexer": "ipython3",
   "version": "3.8.9"
  }
 },
 "nbformat": 4,
 "nbformat_minor": 1
}
